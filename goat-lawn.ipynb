{
 "cells": [
  {
   "cell_type": "markdown",
   "metadata": {},
   "source": [
    "# The Goat Problem\n",
    "\n",
    "So this isn't a simulation, but bear with me because this feels like the most relevant repository for my code.\n",
    "\n",
    "## The Problem\n",
    "\n",
    "Suppose you have a circular lawn with radius = 1. You want to tether a goat to a point ($Q$) on the circumference of the circle, so that the goat can eat exactly half of the grass.\n",
    "\n",
    "How long should the tether ($r$) be?"
   ]
  },
  {
   "cell_type": "code",
   "execution_count": 1,
   "metadata": {},
   "outputs": [],
   "source": [
    "import numpy as np\n",
    "from scipy.optimize import minimize_scalar"
   ]
  },
  {
   "cell_type": "code",
   "execution_count": 2,
   "metadata": {},
   "outputs": [],
   "source": [
    "x = np.linspace(-1, 1, 10001) \n",
    "y = np.linspace(1, -1, 10001) \n",
    "\n",
    "x_coords, y_coords = np.meshgrid(x, y)\n",
    "in_circle = np.where(np.sqrt(x_coords**2 + y_coords**2) <= 1, 1, 0)\n",
    "\n",
    "x = np.linspace(0, 2, 10001) \n",
    "y = np.linspace(1, -1, 10001) \n",
    "\n",
    "x_goat, y_goat = np.meshgrid(x, y)\n",
    "\n",
    "def error(radius):\n",
    "    goat_can_reach = np.where(np.sqrt(x_goat**2 + y_goat**2) <= radius, 1, 0)\n",
    "    return np.abs(.50 - np.sum(goat_can_reach & in_circle)/np.sum(in_circle))\n",
    "\n",
    "result = minimize_scalar(error, bounds=(1.1, 1.2), method='bounded')"
   ]
  },
  {
   "cell_type": "code",
   "execution_count": 3,
   "metadata": {},
   "outputs": [
    {
     "data": {
      "text/plain": [
       "     fun: 1.2923404965059504e-06\n",
       " message: 'Solution found.'\n",
       "    nfev: 15\n",
       "  status: 0\n",
       " success: True\n",
       "       x: 1.1587300183237887"
      ]
     },
     "execution_count": 3,
     "metadata": {},
     "output_type": "execute_result"
    }
   ],
   "source": [
    "result"
   ]
  }
 ],
 "metadata": {
  "kernelspec": {
   "display_name": "Python 3",
   "language": "python",
   "name": "python3"
  },
  "language_info": {
   "codemirror_mode": {
    "name": "ipython",
    "version": 3
   },
   "file_extension": ".py",
   "mimetype": "text/x-python",
   "name": "python",
   "nbconvert_exporter": "python",
   "pygments_lexer": "ipython3",
   "version": "3.8.5"
  }
 },
 "nbformat": 4,
 "nbformat_minor": 4
}
