{
 "cells": [
  {
   "cell_type": "markdown",
   "metadata": {},
   "source": [
    "You place the ace of spades on the bottom of a standard deck of 52 cards. You shuffle the deck (assume in a perfectly random way so that any position afterwards is equally likely) and observe where the ace is now. You then remove all cards under it, which is equivalent to saying the ace can't shuffle back to a lower position. \n",
    "\n",
    "Keep repeating this process until the ace is on top of the deck.\n",
    "\n",
    "What is the expected number of shuffles to achieve this?"
   ]
  },
  {
   "cell_type": "code",
   "execution_count": 1,
   "metadata": {},
   "outputs": [
    {
     "data": {
      "text/plain": [
       "5.521964"
      ]
     },
     "execution_count": 1,
     "metadata": {},
     "output_type": "execute_result"
    }
   ],
   "source": [
    "import random\n",
    "\n",
    "n_sims = 10**6\n",
    "shuffles_required = 0\n",
    "\n",
    "for _ in range(n_sims):\n",
    "    ace_position = 52\n",
    "    while ace_position > 1:\n",
    "        shuffles_required += 1\n",
    "        ace_position = random.choice(range(1, ace_position+1))\n",
    "        \n",
    "shuffles_required/n_sims"
   ]
  },
  {
   "cell_type": "markdown",
   "metadata": {},
   "source": [
    "A simulation yields ~5.52 shuffles. We can solve this without simulation though."
   ]
  },
  {
   "cell_type": "markdown",
   "metadata": {},
   "source": [
    "Let N<sub>i</sub> equal the expected number of shuffles needed when there are `i` cards in the deck.\n",
    "\n",
    "\\begin{equation*}N_1 = 0 \\end{equation*}\n",
    "\\begin{equation*}N_2 = 1 + \\frac{N_1}{2} + \\frac{N_2}{2} \\end{equation*}\n",
    "\\begin{equation*}N_3 = 1 + \\frac{N_1}{3} + \\frac{N_2}{3} + \\frac{N_3}{3} \\end{equation*}\n",
    "\\begin{equation*}N_4 = 1 + \\frac{N_1}{4} + \\frac{N_2}{4} + \\frac{N_3}{4} + \\frac{N_4}{4} \\end{equation*}\n",
    "\n",
    "Let's take a look at `N4`. We know that a shuffle is going to take us to having either 4, 3, 2, or 1 cards left in the deck, all states having equal probability `1/4`. So translating this formula into English we say that the expected number of shuffles needed with 4 cards in the deck is equal to the expected number of shuffles needed with 1, 2, 3, or 4 cards in the deck, times the probility we end up in each of those situations. \n",
    "\n",
    "Rearranging the original formula algebraically gets us to:\n",
    "\n",
    "\\begin{equation*}N_4 = \\frac{4}{3} + \\frac{N_1 + N_2 + N_3}{3} \\end{equation*}"
   ]
  },
  {
   "cell_type": "markdown",
   "metadata": {},
   "source": [
    "If you repeat this step for other values of `i` you can see the general formula is:\n",
    "\n",
    "\\begin{equation*}N_i = \\frac{i}{i-1} + \\frac{\\sum_{j=1}^{i-1} {N_j}}{i-1} \\end{equation*}\n",
    "\n",
    "Calculating the value of a full deck of 52 cards returns..."
   ]
  },
  {
   "cell_type": "code",
   "execution_count": 2,
   "metadata": {},
   "outputs": [
    {
     "data": {
      "text/plain": [
       "5.518813181466678"
      ]
     },
     "execution_count": 2,
     "metadata": {},
     "output_type": "execute_result"
    }
   ],
   "source": [
    "N = dict()\n",
    "N[1] = 0\n",
    "\n",
    "for i in range(2, 53):\n",
    "    N[i] = i/(i-1) + sum([N[j] for j in range(1, i)])/(i-1)\n",
    "\n",
    "N[52]"
   ]
  }
 ],
 "metadata": {
  "kernelspec": {
   "display_name": "Python 3",
   "language": "python",
   "name": "python3"
  },
  "language_info": {
   "codemirror_mode": {
    "name": "ipython",
    "version": 3
   },
   "file_extension": ".py",
   "mimetype": "text/x-python",
   "name": "python",
   "nbconvert_exporter": "python",
   "pygments_lexer": "ipython3",
   "version": "3.7.4"
  }
 },
 "nbformat": 4,
 "nbformat_minor": 4
}
